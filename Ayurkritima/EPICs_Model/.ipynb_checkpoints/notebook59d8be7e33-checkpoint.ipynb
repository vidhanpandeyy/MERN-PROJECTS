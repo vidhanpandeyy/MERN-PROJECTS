{
 "cells": [
  {
   "cell_type": "code",
   "execution_count": 1,
   "metadata": {
    "_cell_guid": "b1076dfc-b9ad-4769-8c92-a6c4dae69d19",
    "_uuid": "8f2839f25d086af736a60e9eeb907d3b93b6e0e5",
    "execution": {
     "iopub.execute_input": "2024-03-06T13:08:19.510071Z",
     "iopub.status.busy": "2024-03-06T13:08:19.509493Z",
     "iopub.status.idle": "2024-03-06T13:08:43.212028Z",
     "shell.execute_reply": "2024-03-06T13:08:43.210596Z",
     "shell.execute_reply.started": "2024-03-06T13:08:19.509997Z"
    }
   },
   "outputs": [
    {
     "ename": "ModuleNotFoundError",
     "evalue": "No module named 'tensorflow'",
     "output_type": "error",
     "traceback": [
      "\u001b[0;31m---------------------------------------------------------------------------\u001b[0m",
      "\u001b[0;31mModuleNotFoundError\u001b[0m                       Traceback (most recent call last)",
      "Cell \u001b[0;32mIn[1], line 4\u001b[0m\n\u001b[1;32m      1\u001b[0m \u001b[38;5;28;01mimport\u001b[39;00m \u001b[38;5;21;01mnumpy\u001b[39;00m \u001b[38;5;28;01mas\u001b[39;00m \u001b[38;5;21;01mnp\u001b[39;00m\n\u001b[1;32m      2\u001b[0m \u001b[38;5;28;01mimport\u001b[39;00m \u001b[38;5;21;01mpandas\u001b[39;00m \u001b[38;5;28;01mas\u001b[39;00m \u001b[38;5;21;01mpd\u001b[39;00m\n\u001b[0;32m----> 4\u001b[0m \u001b[38;5;28;01mfrom\u001b[39;00m \u001b[38;5;21;01mtensorflow\u001b[39;00m\u001b[38;5;21;01m.\u001b[39;00m\u001b[38;5;21;01mkeras\u001b[39;00m\u001b[38;5;21;01m.\u001b[39;00m\u001b[38;5;21;01mmodels\u001b[39;00m \u001b[38;5;28;01mimport\u001b[39;00m Sequential\n\u001b[1;32m      5\u001b[0m \u001b[38;5;28;01mfrom\u001b[39;00m \u001b[38;5;21;01mtensorflow\u001b[39;00m\u001b[38;5;21;01m.\u001b[39;00m\u001b[38;5;21;01mkeras\u001b[39;00m\u001b[38;5;21;01m.\u001b[39;00m\u001b[38;5;21;01mlayers\u001b[39;00m \u001b[38;5;28;01mimport\u001b[39;00m Dense\n\u001b[1;32m      6\u001b[0m \u001b[38;5;28;01mfrom\u001b[39;00m \u001b[38;5;21;01mtensorflow\u001b[39;00m\u001b[38;5;21;01m.\u001b[39;00m\u001b[38;5;21;01mkeras\u001b[39;00m\u001b[38;5;21;01m.\u001b[39;00m\u001b[38;5;21;01mcallbacks\u001b[39;00m \u001b[38;5;28;01mimport\u001b[39;00m EarlyStopping\n",
      "\u001b[0;31mModuleNotFoundError\u001b[0m: No module named 'tensorflow'"
     ]
    }
   ],
   "source": [
    "import numpy as np\n",
    "import pandas as pd\n",
    "\n",
    "from tensorflow.keras.models import Sequential\n",
    "from tensorflow.keras.layers import Dense\n",
    "from tensorflow.keras.callbacks import EarlyStopping\n",
    "\n",
    "import pickle"
   ]
  },
  {
   "cell_type": "code",
   "execution_count": null,
   "metadata": {
    "execution": {
     "iopub.execute_input": "2024-03-06T13:08:43.223222Z",
     "iopub.status.busy": "2024-03-06T13:08:43.219536Z",
     "iopub.status.idle": "2024-03-06T13:08:43.418935Z",
     "shell.execute_reply": "2024-03-06T13:08:43.417685Z",
     "shell.execute_reply.started": "2024-03-06T13:08:43.223160Z"
    }
   },
   "outputs": [
    {
     "ename": "",
     "evalue": "",
     "output_type": "error",
     "traceback": [
      "\u001b[1;31mRunning cells with '/usr/local/bin/python3' requires the ipykernel package.\n",
      "\u001b[1;31mRun the following command to install 'ipykernel' into the Python environment. \n",
      "\u001b[1;31mCommand: '/usr/local/bin/python3 -m pip install ipykernel -U --user --force-reinstall'"
     ]
    }
   ],
   "source": [
    "train_df = pd.read_csv('Training.csv')\n",
    "test_df = pd.read_csv('Testing.csv')"
   ]
  },
  {
   "cell_type": "code",
   "execution_count": null,
   "metadata": {},
   "outputs": [
    {
     "name": "stdout",
     "output_type": "stream",
     "text": [
      "Collecting tensorflow\n",
      "  Downloading tensorflow-2.15.0-cp310-cp310-macosx_12_0_arm64.whl (2.1 kB)\n",
      "Collecting tensorflow-macos==2.15.0\n",
      "  Downloading tensorflow_macos-2.15.0-cp310-cp310-macosx_12_0_arm64.whl (208.8 MB)\n",
      "\u001b[2K     \u001b[90m━━━━━━━━━━━━━━━━━━━━━━━━━━━━━━━━━━━━━━━━\u001b[0m \u001b[32m2.0/208.8 MB\u001b[0m \u001b[31m27.5 kB/s\u001b[0m eta \u001b[36m2:05:20\u001b[0m"
     ]
    }
   ],
   "source": [
    "pip install tensorflow\n"
   ]
  },
  {
   "cell_type": "code",
   "execution_count": null,
   "metadata": {
    "execution": {
     "iopub.execute_input": "2024-03-06T13:08:43.429995Z",
     "iopub.status.busy": "2024-03-06T13:08:43.425960Z",
     "iopub.status.idle": "2024-03-06T13:08:43.487463Z",
     "shell.execute_reply": "2024-03-06T13:08:43.486316Z",
     "shell.execute_reply.started": "2024-03-06T13:08:43.429926Z"
    }
   },
   "outputs": [
    {
     "ename": "",
     "evalue": "",
     "output_type": "error",
     "traceback": [
      "\u001b[1;31mRunning cells with '/usr/local/bin/python3' requires the ipykernel package.\n",
      "\u001b[1;31mRun the following command to install 'ipykernel' into the Python environment. \n",
      "\u001b[1;31mCommand: '/usr/local/bin/python3 -m pip install ipykernel -U --user --force-reinstall'"
     ]
    }
   ],
   "source": [
    "train_df.head()"
   ]
  },
  {
   "cell_type": "code",
   "execution_count": null,
   "metadata": {
    "execution": {
     "iopub.execute_input": "2024-03-06T13:08:43.497905Z",
     "iopub.status.busy": "2024-03-06T13:08:43.494506Z",
     "iopub.status.idle": "2024-03-06T13:08:43.513559Z",
     "shell.execute_reply": "2024-03-06T13:08:43.512009Z",
     "shell.execute_reply.started": "2024-03-06T13:08:43.497845Z"
    }
   },
   "outputs": [
    {
     "ename": "",
     "evalue": "",
     "output_type": "error",
     "traceback": [
      "\u001b[1;31mRunning cells with '/usr/local/bin/python3' requires the ipykernel package.\n",
      "\u001b[1;31mRun the following command to install 'ipykernel' into the Python environment. \n",
      "\u001b[1;31mCommand: '/usr/local/bin/python3 -m pip install ipykernel -U --user --force-reinstall'"
     ]
    }
   ],
   "source": [
    "cols = train_df.columns\n",
    "for i in range(len(cols)):\n",
    "    col = str(cols[i]).replace('_', ' ')\n",
    "    print(f\"'{col}': {i}\", end=',')"
   ]
  },
  {
   "cell_type": "code",
   "execution_count": null,
   "metadata": {
    "execution": {
     "iopub.execute_input": "2024-03-06T13:08:43.523720Z",
     "iopub.status.busy": "2024-03-06T13:08:43.520339Z",
     "iopub.status.idle": "2024-03-06T13:08:43.537720Z",
     "shell.execute_reply": "2024-03-06T13:08:43.536517Z",
     "shell.execute_reply.started": "2024-03-06T13:08:43.523657Z"
    }
   },
   "outputs": [
    {
     "ename": "",
     "evalue": "",
     "output_type": "error",
     "traceback": [
      "\u001b[1;31mRunning cells with '/usr/local/bin/python3' requires the ipykernel package.\n",
      "\u001b[1;31mRun the following command to install 'ipykernel' into the Python environment. \n",
      "\u001b[1;31mCommand: '/usr/local/bin/python3 -m pip install ipykernel -U --user --force-reinstall'"
     ]
    }
   ],
   "source": [
    "cols = train_df.columns\n",
    "for i in range(len(cols)):\n",
    "    col = str(cols[i]).replace('_', ' ')\n",
    "    print(f\"{i}: '{col}'\", end=',')"
   ]
  },
  {
   "cell_type": "code",
   "execution_count": null,
   "metadata": {
    "execution": {
     "iopub.execute_input": "2024-03-06T13:08:43.546125Z",
     "iopub.status.busy": "2024-03-06T13:08:43.540005Z",
     "iopub.status.idle": "2024-03-06T13:08:43.559752Z",
     "shell.execute_reply": "2024-03-06T13:08:43.558751Z",
     "shell.execute_reply.started": "2024-03-06T13:08:43.546031Z"
    }
   },
   "outputs": [
    {
     "ename": "",
     "evalue": "",
     "output_type": "error",
     "traceback": [
      "\u001b[1;31mRunning cells with '/usr/local/bin/python3' requires the ipykernel package.\n",
      "\u001b[1;31mRun the following command to install 'ipykernel' into the Python environment. \n",
      "\u001b[1;31mCommand: '/usr/local/bin/python3 -m pip install ipykernel -U --user --force-reinstall'"
     ]
    }
   ],
   "source": [
    "train_df.shape"
   ]
  },
  {
   "cell_type": "code",
   "execution_count": null,
   "metadata": {
    "execution": {
     "iopub.execute_input": "2024-03-06T13:08:43.562473Z",
     "iopub.status.busy": "2024-03-06T13:08:43.561681Z",
     "iopub.status.idle": "2024-03-06T13:08:43.602168Z",
     "shell.execute_reply": "2024-03-06T13:08:43.600747Z",
     "shell.execute_reply.started": "2024-03-06T13:08:43.562431Z"
    }
   },
   "outputs": [
    {
     "ename": "",
     "evalue": "",
     "output_type": "error",
     "traceback": [
      "\u001b[1;31mRunning cells with '/usr/local/bin/python3' requires the ipykernel package.\n",
      "\u001b[1;31mRun the following command to install 'ipykernel' into the Python environment. \n",
      "\u001b[1;31mCommand: '/usr/local/bin/python3 -m pip install ipykernel -U --user --force-reinstall'"
     ]
    }
   ],
   "source": [
    "test_df.head()"
   ]
  },
  {
   "cell_type": "code",
   "execution_count": null,
   "metadata": {
    "execution": {
     "iopub.execute_input": "2024-03-06T13:08:43.611633Z",
     "iopub.status.busy": "2024-03-06T13:08:43.608592Z",
     "iopub.status.idle": "2024-03-06T13:08:43.623236Z",
     "shell.execute_reply": "2024-03-06T13:08:43.622089Z",
     "shell.execute_reply.started": "2024-03-06T13:08:43.611579Z"
    }
   },
   "outputs": [
    {
     "ename": "",
     "evalue": "",
     "output_type": "error",
     "traceback": [
      "\u001b[1;31mRunning cells with '/usr/local/bin/python3' requires the ipykernel package.\n",
      "\u001b[1;31mRun the following command to install 'ipykernel' into the Python environment. \n",
      "\u001b[1;31mCommand: '/usr/local/bin/python3 -m pip install ipykernel -U --user --force-reinstall'"
     ]
    }
   ],
   "source": [
    "test_df.shape"
   ]
  },
  {
   "cell_type": "code",
   "execution_count": null,
   "metadata": {
    "execution": {
     "iopub.execute_input": "2024-03-06T13:08:43.628931Z",
     "iopub.status.busy": "2024-03-06T13:08:43.627825Z",
     "iopub.status.idle": "2024-03-06T13:08:43.652576Z",
     "shell.execute_reply": "2024-03-06T13:08:43.651597Z",
     "shell.execute_reply.started": "2024-03-06T13:08:43.628886Z"
    }
   },
   "outputs": [
    {
     "ename": "",
     "evalue": "",
     "output_type": "error",
     "traceback": [
      "\u001b[1;31mRunning cells with '/usr/local/bin/python3' requires the ipykernel package.\n",
      "\u001b[1;31mRun the following command to install 'ipykernel' into the Python environment. \n",
      "\u001b[1;31mCommand: '/usr/local/bin/python3 -m pip install ipykernel -U --user --force-reinstall'"
     ]
    }
   ],
   "source": [
    "null_check = train_df.isnull().sum()\n",
    "null_check[null_check != 0]"
   ]
  },
  {
   "cell_type": "code",
   "execution_count": null,
   "metadata": {
    "execution": {
     "iopub.execute_input": "2024-03-06T13:08:43.658985Z",
     "iopub.status.busy": "2024-03-06T13:08:43.658191Z",
     "iopub.status.idle": "2024-03-06T13:08:43.686426Z",
     "shell.execute_reply": "2024-03-06T13:08:43.685191Z",
     "shell.execute_reply.started": "2024-03-06T13:08:43.658943Z"
    }
   },
   "outputs": [
    {
     "ename": "",
     "evalue": "",
     "output_type": "error",
     "traceback": [
      "\u001b[1;31mRunning cells with '/usr/local/bin/python3' requires the ipykernel package.\n",
      "\u001b[1;31mRun the following command to install 'ipykernel' into the Python environment. \n",
      "\u001b[1;31mCommand: '/usr/local/bin/python3 -m pip install ipykernel -U --user --force-reinstall'"
     ]
    }
   ],
   "source": [
    "train_df = train_df.drop(columns = 'Unnamed: 133')"
   ]
  },
  {
   "cell_type": "code",
   "execution_count": null,
   "metadata": {
    "execution": {
     "iopub.execute_input": "2024-03-06T13:08:43.698981Z",
     "iopub.status.busy": "2024-03-06T13:08:43.695373Z",
     "iopub.status.idle": "2024-03-06T13:08:43.706439Z",
     "shell.execute_reply": "2024-03-06T13:08:43.705201Z",
     "shell.execute_reply.started": "2024-03-06T13:08:43.698923Z"
    }
   },
   "outputs": [
    {
     "ename": "",
     "evalue": "",
     "output_type": "error",
     "traceback": [
      "\u001b[1;31mRunning cells with '/usr/local/bin/python3' requires the ipykernel package.\n",
      "\u001b[1;31mRun the following command to install 'ipykernel' into the Python environment. \n",
      "\u001b[1;31mCommand: '/usr/local/bin/python3 -m pip install ipykernel -U --user --force-reinstall'"
     ]
    }
   ],
   "source": [
    "prognosis = train_df['prognosis']"
   ]
  },
  {
   "cell_type": "code",
   "execution_count": null,
   "metadata": {
    "execution": {
     "iopub.execute_input": "2024-03-06T13:08:43.717214Z",
     "iopub.status.busy": "2024-03-06T13:08:43.713640Z",
     "iopub.status.idle": "2024-03-06T13:08:43.739194Z",
     "shell.execute_reply": "2024-03-06T13:08:43.738076Z",
     "shell.execute_reply.started": "2024-03-06T13:08:43.717160Z"
    }
   },
   "outputs": [
    {
     "ename": "",
     "evalue": "",
     "output_type": "error",
     "traceback": [
      "\u001b[1;31mRunning cells with '/usr/local/bin/python3' requires the ipykernel package.\n",
      "\u001b[1;31mRun the following command to install 'ipykernel' into the Python environment. \n",
      "\u001b[1;31mCommand: '/usr/local/bin/python3 -m pip install ipykernel -U --user --force-reinstall'"
     ]
    }
   ],
   "source": [
    "prognosis.value_counts()"
   ]
  },
  {
   "cell_type": "markdown",
   "metadata": {},
   "source": [
    "# Splitting Dataset"
   ]
  },
  {
   "cell_type": "code",
   "execution_count": null,
   "metadata": {
    "execution": {
     "iopub.execute_input": "2024-03-06T13:08:43.748756Z",
     "iopub.status.busy": "2024-03-06T13:08:43.745350Z",
     "iopub.status.idle": "2024-03-06T13:08:43.778519Z",
     "shell.execute_reply": "2024-03-06T13:08:43.777389Z",
     "shell.execute_reply.started": "2024-03-06T13:08:43.748695Z"
    }
   },
   "outputs": [
    {
     "ename": "",
     "evalue": "",
     "output_type": "error",
     "traceback": [
      "\u001b[1;31mRunning cells with '/usr/local/bin/python3' requires the ipykernel package.\n",
      "\u001b[1;31mRun the following command to install 'ipykernel' into the Python environment. \n",
      "\u001b[1;31mCommand: '/usr/local/bin/python3 -m pip install ipykernel -U --user --force-reinstall'"
     ]
    }
   ],
   "source": [
    "train_df.head()"
   ]
  },
  {
   "cell_type": "code",
   "execution_count": null,
   "metadata": {
    "execution": {
     "iopub.execute_input": "2024-03-06T13:08:43.787237Z",
     "iopub.status.busy": "2024-03-06T13:08:43.784135Z",
     "iopub.status.idle": "2024-03-06T13:08:43.807670Z",
     "shell.execute_reply": "2024-03-06T13:08:43.806391Z",
     "shell.execute_reply.started": "2024-03-06T13:08:43.787184Z"
    }
   },
   "outputs": [
    {
     "ename": "",
     "evalue": "",
     "output_type": "error",
     "traceback": [
      "\u001b[1;31mRunning cells with '/usr/local/bin/python3' requires the ipykernel package.\n",
      "\u001b[1;31mRun the following command to install 'ipykernel' into the Python environment. \n",
      "\u001b[1;31mCommand: '/usr/local/bin/python3 -m pip install ipykernel -U --user --force-reinstall'"
     ]
    }
   ],
   "source": [
    "X_train = train_df.drop(columns='prognosis')\n",
    "X_test = test_df.drop(columns='prognosis')\n",
    "\n",
    "y_train = train_df['prognosis'].to_numpy()\n",
    "y_test = test_df['prognosis']"
   ]
  },
  {
   "cell_type": "code",
   "execution_count": null,
   "metadata": {
    "execution": {
     "iopub.execute_input": "2024-03-06T13:08:43.817600Z",
     "iopub.status.busy": "2024-03-06T13:08:43.814325Z",
     "iopub.status.idle": "2024-03-06T13:08:43.830063Z",
     "shell.execute_reply": "2024-03-06T13:08:43.828902Z",
     "shell.execute_reply.started": "2024-03-06T13:08:43.817538Z"
    }
   },
   "outputs": [
    {
     "ename": "",
     "evalue": "",
     "output_type": "error",
     "traceback": [
      "\u001b[1;31mRunning cells with '/usr/local/bin/python3' requires the ipykernel package.\n",
      "\u001b[1;31mRun the following command to install 'ipykernel' into the Python environment. \n",
      "\u001b[1;31mCommand: '/usr/local/bin/python3 -m pip install ipykernel -U --user --force-reinstall'"
     ]
    }
   ],
   "source": [
    "X_train.shape, X_test.shape"
   ]
  },
  {
   "cell_type": "code",
   "execution_count": null,
   "metadata": {
    "execution": {
     "iopub.execute_input": "2024-03-06T13:08:43.839693Z",
     "iopub.status.busy": "2024-03-06T13:08:43.835765Z",
     "iopub.status.idle": "2024-03-06T13:08:43.851422Z",
     "shell.execute_reply": "2024-03-06T13:08:43.850196Z",
     "shell.execute_reply.started": "2024-03-06T13:08:43.839640Z"
    }
   },
   "outputs": [
    {
     "ename": "",
     "evalue": "",
     "output_type": "error",
     "traceback": [
      "\u001b[1;31mRunning cells with '/usr/local/bin/python3' requires the ipykernel package.\n",
      "\u001b[1;31mRun the following command to install 'ipykernel' into the Python environment. \n",
      "\u001b[1;31mCommand: '/usr/local/bin/python3 -m pip install ipykernel -U --user --force-reinstall'"
     ]
    }
   ],
   "source": [
    "y_train.shape, y_test.shape"
   ]
  },
  {
   "cell_type": "markdown",
   "metadata": {},
   "source": [
    "# Encdoding"
   ]
  },
  {
   "cell_type": "code",
   "execution_count": null,
   "metadata": {
    "execution": {
     "iopub.execute_input": "2024-03-06T13:08:43.854691Z",
     "iopub.status.busy": "2024-03-06T13:08:43.853617Z",
     "iopub.status.idle": "2024-03-06T13:08:43.900785Z",
     "shell.execute_reply": "2024-03-06T13:08:43.899462Z",
     "shell.execute_reply.started": "2024-03-06T13:08:43.854643Z"
    }
   },
   "outputs": [
    {
     "ename": "",
     "evalue": "",
     "output_type": "error",
     "traceback": [
      "\u001b[1;31mRunning cells with '/usr/local/bin/python3' requires the ipykernel package.\n",
      "\u001b[1;31mRun the following command to install 'ipykernel' into the Python environment. \n",
      "\u001b[1;31mCommand: '/usr/local/bin/python3 -m pip install ipykernel -U --user --force-reinstall'"
     ]
    }
   ],
   "source": [
    "y_train_encoded = pd.get_dummies(y_train)\n",
    "y_train_encoded.head()"
   ]
  },
  {
   "cell_type": "code",
   "execution_count": null,
   "metadata": {
    "execution": {
     "iopub.execute_input": "2024-03-06T13:08:43.913201Z",
     "iopub.status.busy": "2024-03-06T13:08:43.908755Z",
     "iopub.status.idle": "2024-03-06T13:08:43.949746Z",
     "shell.execute_reply": "2024-03-06T13:08:43.948636Z",
     "shell.execute_reply.started": "2024-03-06T13:08:43.913135Z"
    }
   },
   "outputs": [
    {
     "ename": "",
     "evalue": "",
     "output_type": "error",
     "traceback": [
      "\u001b[1;31mRunning cells with '/usr/local/bin/python3' requires the ipykernel package.\n",
      "\u001b[1;31mRun the following command to install 'ipykernel' into the Python environment. \n",
      "\u001b[1;31mCommand: '/usr/local/bin/python3 -m pip install ipykernel -U --user --force-reinstall'"
     ]
    }
   ],
   "source": [
    "y_test_encoded = pd.get_dummies(y_test)\n",
    "y_test_encoded.head()"
   ]
  },
  {
   "cell_type": "markdown",
   "metadata": {},
   "source": [
    "# Model"
   ]
  },
  {
   "cell_type": "code",
   "execution_count": null,
   "metadata": {
    "execution": {
     "iopub.execute_input": "2024-03-06T13:08:43.958970Z",
     "iopub.status.busy": "2024-03-06T13:08:43.955808Z",
     "iopub.status.idle": "2024-03-06T13:08:44.412079Z",
     "shell.execute_reply": "2024-03-06T13:08:44.410840Z",
     "shell.execute_reply.started": "2024-03-06T13:08:43.958916Z"
    }
   },
   "outputs": [
    {
     "ename": "",
     "evalue": "",
     "output_type": "error",
     "traceback": [
      "\u001b[1;31mRunning cells with '/usr/local/bin/python3' requires the ipykernel package.\n",
      "\u001b[1;31mRun the following command to install 'ipykernel' into the Python environment. \n",
      "\u001b[1;31mCommand: '/usr/local/bin/python3 -m pip install ipykernel -U --user --force-reinstall'"
     ]
    }
   ],
   "source": [
    "model = Sequential()\n",
    "model.add(Dense(32, activation='relu', input_shape= (X_train.shape[1], )))\n",
    "model.add(Dense(16, activation='relu'))\n",
    "model.add(Dense(y_train_encoded.shape[1], activation='softmax'))"
   ]
  },
  {
   "cell_type": "code",
   "execution_count": null,
   "metadata": {
    "execution": {
     "iopub.execute_input": "2024-03-06T13:08:44.422350Z",
     "iopub.status.busy": "2024-03-06T13:08:44.419116Z",
     "iopub.status.idle": "2024-03-06T13:08:44.455367Z",
     "shell.execute_reply": "2024-03-06T13:08:44.454629Z",
     "shell.execute_reply.started": "2024-03-06T13:08:44.422299Z"
    }
   },
   "outputs": [
    {
     "ename": "",
     "evalue": "",
     "output_type": "error",
     "traceback": [
      "\u001b[1;31mRunning cells with '/usr/local/bin/python3' requires the ipykernel package.\n",
      "\u001b[1;31mRun the following command to install 'ipykernel' into the Python environment. \n",
      "\u001b[1;31mCommand: '/usr/local/bin/python3 -m pip install ipykernel -U --user --force-reinstall'"
     ]
    }
   ],
   "source": [
    "model.summary()"
   ]
  },
  {
   "cell_type": "code",
   "execution_count": null,
   "metadata": {
    "execution": {
     "iopub.execute_input": "2024-03-06T13:08:44.457120Z",
     "iopub.status.busy": "2024-03-06T13:08:44.456725Z",
     "iopub.status.idle": "2024-03-06T13:08:44.508257Z",
     "shell.execute_reply": "2024-03-06T13:08:44.507321Z",
     "shell.execute_reply.started": "2024-03-06T13:08:44.457083Z"
    }
   },
   "outputs": [
    {
     "ename": "",
     "evalue": "",
     "output_type": "error",
     "traceback": [
      "\u001b[1;31mRunning cells with '/usr/local/bin/python3' requires the ipykernel package.\n",
      "\u001b[1;31mRun the following command to install 'ipykernel' into the Python environment. \n",
      "\u001b[1;31mCommand: '/usr/local/bin/python3 -m pip install ipykernel -U --user --force-reinstall'"
     ]
    }
   ],
   "source": [
    "model.compile('adam', loss='categorical_crossentropy', metrics=['accuracy'])"
   ]
  },
  {
   "cell_type": "code",
   "execution_count": null,
   "metadata": {
    "execution": {
     "iopub.execute_input": "2024-03-06T13:08:44.510561Z",
     "iopub.status.busy": "2024-03-06T13:08:44.509875Z",
     "iopub.status.idle": "2024-03-06T13:08:48.113602Z",
     "shell.execute_reply": "2024-03-06T13:08:48.112185Z",
     "shell.execute_reply.started": "2024-03-06T13:08:44.510525Z"
    }
   },
   "outputs": [
    {
     "ename": "",
     "evalue": "",
     "output_type": "error",
     "traceback": [
      "\u001b[1;31mRunning cells with '/usr/local/bin/python3' requires the ipykernel package.\n",
      "\u001b[1;31mRun the following command to install 'ipykernel' into the Python environment. \n",
      "\u001b[1;31mCommand: '/usr/local/bin/python3 -m pip install ipykernel -U --user --force-reinstall'"
     ]
    }
   ],
   "source": [
    "early_stopping= EarlyStopping(patience=2, monitor='val_accuracy')\n",
    "model.fit(X_train, y_train_encoded, batch_size=40, epochs=10, validation_split=0.25, callbacks=[early_stopping])"
   ]
  },
  {
   "cell_type": "code",
   "execution_count": null,
   "metadata": {
    "execution": {
     "iopub.execute_input": "2024-03-06T13:08:48.121972Z",
     "iopub.status.busy": "2024-03-06T13:08:48.119070Z",
     "iopub.status.idle": "2024-03-06T13:08:48.798467Z",
     "shell.execute_reply": "2024-03-06T13:08:48.796906Z",
     "shell.execute_reply.started": "2024-03-06T13:08:48.121926Z"
    }
   },
   "outputs": [
    {
     "ename": "",
     "evalue": "",
     "output_type": "error",
     "traceback": [
      "\u001b[1;31mRunning cells with '/usr/local/bin/python3' requires the ipykernel package.\n",
      "\u001b[1;31mRun the following command to install 'ipykernel' into the Python environment. \n",
      "\u001b[1;31mCommand: '/usr/local/bin/python3 -m pip install ipykernel -U --user --force-reinstall'"
     ]
    }
   ],
   "source": [
    "model.evaluate(X_test, y_test_encoded, batch_size=1, steps=8)"
   ]
  },
  {
   "cell_type": "code",
   "execution_count": null,
   "metadata": {
    "execution": {
     "iopub.execute_input": "2024-03-06T13:08:48.806184Z",
     "iopub.status.busy": "2024-03-06T13:08:48.803398Z",
     "iopub.status.idle": "2024-03-06T13:08:49.055156Z",
     "shell.execute_reply": "2024-03-06T13:08:49.054075Z",
     "shell.execute_reply.started": "2024-03-06T13:08:48.806140Z"
    }
   },
   "outputs": [
    {
     "ename": "",
     "evalue": "",
     "output_type": "error",
     "traceback": [
      "\u001b[1;31mRunning cells with '/usr/local/bin/python3' requires the ipykernel package.\n",
      "\u001b[1;31mRun the following command to install 'ipykernel' into the Python environment. \n",
      "\u001b[1;31mCommand: '/usr/local/bin/python3 -m pip install ipykernel -U --user --force-reinstall'"
     ]
    }
   ],
   "source": [
    "predictions = model.predict(X_test)"
   ]
  },
  {
   "cell_type": "code",
   "execution_count": null,
   "metadata": {
    "execution": {
     "iopub.execute_input": "2024-03-06T13:08:49.063763Z",
     "iopub.status.busy": "2024-03-06T13:08:49.060913Z",
     "iopub.status.idle": "2024-03-06T13:08:49.075177Z",
     "shell.execute_reply": "2024-03-06T13:08:49.074206Z",
     "shell.execute_reply.started": "2024-03-06T13:08:49.063717Z"
    }
   },
   "outputs": [
    {
     "ename": "",
     "evalue": "",
     "output_type": "error",
     "traceback": [
      "\u001b[1;31mRunning cells with '/usr/local/bin/python3' requires the ipykernel package.\n",
      "\u001b[1;31mRun the following command to install 'ipykernel' into the Python environment. \n",
      "\u001b[1;31mCommand: '/usr/local/bin/python3 -m pip install ipykernel -U --user --force-reinstall'"
     ]
    }
   ],
   "source": [
    "np.argmax(predictions, axis=1)"
   ]
  },
  {
   "cell_type": "code",
   "execution_count": null,
   "metadata": {
    "execution": {
     "iopub.execute_input": "2024-03-06T13:08:49.084109Z",
     "iopub.status.busy": "2024-03-06T13:08:49.080947Z",
     "iopub.status.idle": "2024-03-06T13:08:49.164989Z",
     "shell.execute_reply": "2024-03-06T13:08:49.163822Z",
     "shell.execute_reply.started": "2024-03-06T13:08:49.084058Z"
    }
   },
   "outputs": [
    {
     "ename": "",
     "evalue": "",
     "output_type": "error",
     "traceback": [
      "\u001b[1;31mRunning cells with '/usr/local/bin/python3' requires the ipykernel package.\n",
      "\u001b[1;31mRun the following command to install 'ipykernel' into the Python environment. \n",
      "\u001b[1;31mCommand: '/usr/local/bin/python3 -m pip install ipykernel -U --user --force-reinstall'"
     ]
    }
   ],
   "source": [
    "# model.save('model.h5')\n",
    "with open('model.pkl', 'wb') as file:\n",
    "    pickle.dump(model, file)"
   ]
  },
  {
   "cell_type": "markdown",
   "metadata": {
    "execution": {
     "iopub.execute_input": "2023-12-11T17:34:58.515624Z",
     "iopub.status.busy": "2023-12-11T17:34:58.515127Z",
     "iopub.status.idle": "2023-12-11T17:34:58.521366Z",
     "shell.execute_reply": "2023-12-11T17:34:58.520397Z",
     "shell.execute_reply.started": "2023-12-11T17:34:58.515583Z"
    }
   },
   "source": [
    "import shutil\n",
    "shutil.rmtree(\"/kaggle/working/model\")"
   ]
  },
  {
   "cell_type": "code",
   "execution_count": null,
   "metadata": {
    "execution": {
     "iopub.execute_input": "2024-03-06T13:08:49.174797Z",
     "iopub.status.busy": "2024-03-06T13:08:49.171521Z",
     "iopub.status.idle": "2024-03-06T13:08:49.186367Z",
     "shell.execute_reply": "2024-03-06T13:08:49.185098Z",
     "shell.execute_reply.started": "2024-03-06T13:08:49.174720Z"
    }
   },
   "outputs": [
    {
     "ename": "",
     "evalue": "",
     "output_type": "error",
     "traceback": [
      "\u001b[1;31mRunning cells with '/usr/local/bin/python3' requires the ipykernel package.\n",
      "\u001b[1;31mRun the following command to install 'ipykernel' into the Python environment. \n",
      "\u001b[1;31mCommand: '/usr/local/bin/python3 -m pip install ipykernel -U --user --force-reinstall'"
     ]
    }
   ],
   "source": [
    "def get_result(arr):\n",
    "    names = ['(vertigo) Paroymsal  Positional Vertigo', 'AIDS', 'Acne',\n",
    "       'Alcoholic hepatitis', 'Allergy', 'Arthritis', 'Bronchial Asthma',\n",
    "       'Cervical spondylosis', 'Chicken pox', 'Chronic cholestasis',\n",
    "       'Common Cold', 'Dengue', 'Diabetes ', 'Dimorphic hemmorhoids(piles)',\n",
    "       'Drug Reaction', 'Fungal infection', 'GERD', 'Gastroenteritis',\n",
    "       'Heart attack', 'Hepatitis B', 'Hepatitis C', 'Hepatitis D',\n",
    "       'Hepatitis E', 'Hypertension ', 'Hyperthyroidism', 'Hypoglycemia',\n",
    "       'Hypothyroidism', 'Impetigo', 'Jaundice', 'Malaria', 'Migraine',\n",
    "       'Osteoarthristis', 'Paralysis (brain hemorrhage)',\n",
    "       'Peptic ulcer diseae', 'Pneumonia', 'Psoriasis', 'Tuberculosis',\n",
    "       'Typhoid', 'Urinary tract infection', 'Varicose veins', 'hepatitis A']\n",
    "    \n",
    "    \n",
    "    arr = np.array(arr).reshape(1,132)\n",
    "    prediction = model.predict(arr)\n",
    "    index = np.argmax(prediction)\n",
    "    \n",
    "    disease_name = names[index]\n",
    "    probability = np.max(model.predict(arr))\n",
    "    \n",
    "    return disease_name, probability"
   ]
  },
  {
   "cell_type": "code",
   "execution_count": null,
   "metadata": {
    "execution": {
     "iopub.execute_input": "2024-03-06T13:08:49.197959Z",
     "iopub.status.busy": "2024-03-06T13:08:49.193830Z",
     "iopub.status.idle": "2024-03-06T13:08:49.212964Z",
     "shell.execute_reply": "2024-03-06T13:08:49.211338Z",
     "shell.execute_reply.started": "2024-03-06T13:08:49.197895Z"
    }
   },
   "outputs": [
    {
     "ename": "",
     "evalue": "",
     "output_type": "error",
     "traceback": [
      "\u001b[1;31mRunning cells with '/usr/local/bin/python3' requires the ipykernel package.\n",
      "\u001b[1;31mRun the following command to install 'ipykernel' into the Python environment. \n",
      "\u001b[1;31mCommand: '/usr/local/bin/python3 -m pip install ipykernel -U --user --force-reinstall'"
     ]
    }
   ],
   "source": [
    "X_test.iloc[4].to_numpy()"
   ]
  },
  {
   "cell_type": "code",
   "execution_count": null,
   "metadata": {
    "execution": {
     "iopub.execute_input": "2024-03-06T13:08:49.221655Z",
     "iopub.status.busy": "2024-03-06T13:08:49.218972Z",
     "iopub.status.idle": "2024-03-06T13:08:49.423379Z",
     "shell.execute_reply": "2024-03-06T13:08:49.422223Z",
     "shell.execute_reply.started": "2024-03-06T13:08:49.221594Z"
    }
   },
   "outputs": [
    {
     "ename": "",
     "evalue": "",
     "output_type": "error",
     "traceback": [
      "\u001b[1;31mRunning cells with '/usr/local/bin/python3' requires the ipykernel package.\n",
      "\u001b[1;31mRun the following command to install 'ipykernel' into the Python environment. \n",
      "\u001b[1;31mCommand: '/usr/local/bin/python3 -m pip install ipykernel -U --user --force-reinstall'"
     ]
    }
   ],
   "source": [
    "get_result(X_test.iloc[4].to_numpy())"
   ]
  },
  {
   "cell_type": "code",
   "execution_count": null,
   "metadata": {
    "execution": {
     "iopub.execute_input": "2024-03-06T13:08:49.426206Z",
     "iopub.status.busy": "2024-03-06T13:08:49.425374Z",
     "iopub.status.idle": "2024-03-06T13:08:49.444520Z",
     "shell.execute_reply": "2024-03-06T13:08:49.443224Z",
     "shell.execute_reply.started": "2024-03-06T13:08:49.426162Z"
    }
   },
   "outputs": [
    {
     "ename": "",
     "evalue": "",
     "output_type": "error",
     "traceback": [
      "\u001b[1;31mRunning cells with '/usr/local/bin/python3' requires the ipykernel package.\n",
      "\u001b[1;31mRun the following command to install 'ipykernel' into the Python environment. \n",
      "\u001b[1;31mCommand: '/usr/local/bin/python3 -m pip install ipykernel -U --user --force-reinstall'"
     ]
    }
   ],
   "source": [
    "array_data = y_test_encoded.to_numpy()\n",
    "\n",
    "for index, row in enumerate(array_data):\n",
    "    column_name = y_test_encoded.columns[np.where(row == 1)[0][0]]\n",
    "    print(f\"{index}: {column_name}\")"
   ]
  },
  {
   "cell_type": "code",
   "execution_count": null,
   "metadata": {},
   "outputs": [
    {
     "ename": "",
     "evalue": "",
     "output_type": "error",
     "traceback": [
      "\u001b[1;31mRunning cells with '/usr/local/bin/python3' requires the ipykernel package.\n",
      "\u001b[1;31mRun the following command to install 'ipykernel' into the Python environment. \n",
      "\u001b[1;31mCommand: '/usr/local/bin/python3 -m pip install ipykernel -U --user --force-reinstall'"
     ]
    }
   ],
   "source": []
  }
 ],
 "metadata": {
  "kaggle": {
   "accelerator": "none",
   "dataSources": [
    {
     "datasetId": 654897,
     "sourceId": 1157702,
     "sourceType": "datasetVersion"
    }
   ],
   "dockerImageVersionId": 30615,
   "isGpuEnabled": false,
   "isInternetEnabled": false,
   "language": "python",
   "sourceType": "notebook"
  },
  "kernelspec": {
   "display_name": "Python 3 (ipykernel)",
   "language": "python",
   "name": "python3"
  },
  "language_info": {
   "codemirror_mode": {
    "name": "ipython",
    "version": 3
   },
   "file_extension": ".py",
   "mimetype": "text/x-python",
   "name": "python",
   "nbconvert_exporter": "python",
   "pygments_lexer": "ipython3",
   "version": "3.10.9"
  }
 },
 "nbformat": 4,
 "nbformat_minor": 4
}
